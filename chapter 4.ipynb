{
 "cells": [
  {
   "cell_type": "markdown",
   "id": "81728f19",
   "metadata": {},
   "source": [
    "# chapter 4\n",
    "# functions"
   ]
  },
  {
   "cell_type": "code",
   "execution_count": 3,
   "id": "1d51b404",
   "metadata": {},
   "outputs": [
    {
     "name": "stdout",
     "output_type": "stream",
     "text": [
      "fun\n",
      "hello\n",
      "zip\n",
      "hello\n"
     ]
    }
   ],
   "source": [
    "def thing():print('hello')\n",
    "print('fun')\n",
    "thing()\n",
    "print('zip')\n",
    "thing()"
   ]
  },
  {
   "cell_type": "code",
   "execution_count": 4,
   "id": "8468562e",
   "metadata": {},
   "outputs": [
    {
     "name": "stdout",
     "output_type": "stream",
     "text": [
      "big\n"
     ]
    }
   ],
   "source": [
    "big=max('hello world')\n",
    "print('big')"
   ]
  },
  {
   "cell_type": "code",
   "execution_count": 5,
   "id": "a2569abf",
   "metadata": {},
   "outputs": [
    {
     "name": "stdout",
     "output_type": "stream",
     "text": [
      "tiny\n"
     ]
    }
   ],
   "source": [
    "tiny=min('hello world')\n",
    "print('tiny')"
   ]
  },
  {
   "cell_type": "code",
   "execution_count": 6,
   "id": "89bb2a1e",
   "metadata": {},
   "outputs": [
    {
     "name": "stdout",
     "output_type": "stream",
     "text": [
      "0.99\n"
     ]
    }
   ],
   "source": [
    "print(float(99)/100)"
   ]
  },
  {
   "cell_type": "code",
   "execution_count": 10,
   "id": "ec13ba42",
   "metadata": {},
   "outputs": [
    {
     "name": "stdout",
     "output_type": "stream",
     "text": [
      "-2.5\n"
     ]
    }
   ],
   "source": [
    "print(1+2* float(3) /4-5)"
   ]
  },
  {
   "cell_type": "code",
   "execution_count": 14,
   "id": "cc45d72c",
   "metadata": {},
   "outputs": [
    {
     "name": "stdout",
     "output_type": "stream",
     "text": [
      "hello\n",
      "i sleep in the morning and scrolling in the night\n",
      "yo\n",
      "7\n"
     ]
    }
   ],
   "source": [
    "x=5\n",
    "print('hello')\n",
    "def print_lyrics():print(\"i am lumberjack, i am sad\")\n",
    "print('i sleep in the morning and scrolling in the night')\n",
    "print('yo') \n",
    "x=x+2 \n",
    "print(x)"
   ]
  },
  {
   "cell_type": "code",
   "execution_count": 40,
   "id": "c4cb51b4",
   "metadata": {},
   "outputs": [
    {
     "name": "stdout",
     "output_type": "stream",
     "text": [
      "hello\n",
      "hola\n",
      "bonjour\n"
     ]
    }
   ],
   "source": [
    "def greet (lang):\n",
    "    if lang=='es':print('hola')\n",
    "    elif lang=='fr': print ('bonjour')\n",
    "    else:print('hello')\n",
    "greet('en')\n",
    "greet('es')\n",
    "greet('fr')"
   ]
  },
  {
   "cell_type": "code",
   "execution_count": 43,
   "id": "8b1e5f9a",
   "metadata": {},
   "outputs": [
    {
     "name": "stdout",
     "output_type": "stream",
     "text": [
      "hello gleen\n",
      "hola sally\n",
      "bonjour micheal\n"
     ]
    }
   ],
   "source": [
    "def greet (lang):\n",
    "    if lang=='es':return'hola'\n",
    "    elif lang=='fr': return'bonjour'\n",
    "    else:return'hello'\n",
    "print(greet('en'),'gleen')\n",
    "print(greet('es'),'sally')\n",
    "print (greet('fr'),'micheal')"
   ]
  },
  {
   "cell_type": "code",
   "execution_count": 45,
   "id": "8e5b7b6c",
   "metadata": {},
   "outputs": [
    {
     "name": "stdout",
     "output_type": "stream",
     "text": [
      "8\n"
     ]
    }
   ],
   "source": [
    "def addtwo(a,b):\n",
    "    added=a+b\n",
    "    return added\n",
    "x=addtwo(3,5)\n",
    "print(x)"
   ]
  }
 ],
 "metadata": {
  "kernelspec": {
   "display_name": "Python 3 (ipykernel)",
   "language": "python",
   "name": "python3"
  },
  "language_info": {
   "codemirror_mode": {
    "name": "ipython",
    "version": 3
   },
   "file_extension": ".py",
   "mimetype": "text/x-python",
   "name": "python",
   "nbconvert_exporter": "python",
   "pygments_lexer": "ipython3",
   "version": "3.11.4"
  }
 },
 "nbformat": 4,
 "nbformat_minor": 5
}
