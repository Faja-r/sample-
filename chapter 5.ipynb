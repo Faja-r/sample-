{
 "cells": [
  {
   "cell_type": "markdown",
   "id": "95131498",
   "metadata": {},
   "source": [
    "# chapter 5\n",
    "# loops and iteration"
   ]
  },
  {
   "cell_type": "code",
   "execution_count": 3,
   "id": "d7fe9565",
   "metadata": {},
   "outputs": [
    {
     "name": "stdout",
     "output_type": "stream",
     "text": [
      ">>\n",
      ">done\n"
     ]
    }
   ],
   "source": [
    "while True:\n",
    "    line= input('>')\n",
    "    if line=='done':\n",
    "        break\n",
    "        print(line)\n",
    "        print('done!')"
   ]
  },
  {
   "cell_type": "code",
   "execution_count": 5,
   "id": "09f80bfd",
   "metadata": {},
   "outputs": [
    {
     "name": "stdout",
     "output_type": "stream",
     "text": [
      ">hello there\n",
      ">#dont print this\n",
      ">print this \n",
      ">done\n"
     ]
    }
   ],
   "source": [
    "while True:\n",
    "    line= input('>')\n",
    "    if line[0]=='#':\n",
    "        continue\n",
    "    if line=='done':\n",
    "        break\n",
    "        print(line)\n",
    "        print('done!')"
   ]
  },
  {
   "cell_type": "code",
   "execution_count": 9,
   "id": "1d057f3d",
   "metadata": {},
   "outputs": [
    {
     "name": "stdout",
     "output_type": "stream",
     "text": [
      "5\n",
      "blast off\n",
      "4\n",
      "blast off\n",
      "3\n",
      "blast off\n",
      "2\n",
      "blast off\n",
      "1\n",
      "blast off\n"
     ]
    }
   ],
   "source": [
    "for i in [5,4,3,2,1]:\n",
    "    print (i)\n",
    "    print('blast off')"
   ]
  },
  {
   "cell_type": "code",
   "execution_count": 11,
   "id": "48e9dab5",
   "metadata": {},
   "outputs": [
    {
     "name": "stdout",
     "output_type": "stream",
     "text": [
      "happy new year: joseph\n",
      "Done!\n",
      "happy new year: gleen\n",
      "Done!\n",
      "happy new year: sally\n",
      "Done!\n"
     ]
    }
   ],
   "source": [
    "friends=['joseph','gleen','sally']\n",
    "for friends in friends:\n",
    "    print('happy new year:',friends)\n",
    "    print('Done!')"
   ]
  },
  {
   "cell_type": "code",
   "execution_count": 12,
   "id": "5a402fdd",
   "metadata": {},
   "outputs": [
    {
     "name": "stdout",
     "output_type": "stream",
     "text": [
      "before\n",
      "9\n",
      "after\n",
      "41\n",
      "after\n",
      "12\n",
      "after\n",
      "3\n",
      "after\n",
      "47\n",
      "after\n",
      "15\n",
      "after\n"
     ]
    }
   ],
   "source": [
    "print('before')\n",
    "for thing in [9,41,12,3,47,15]:\n",
    "    print(thing)\n",
    "    print('after')"
   ]
  },
  {
   "cell_type": "code",
   "execution_count": 16,
   "id": "5d3355ac",
   "metadata": {},
   "outputs": [
    {
     "name": "stdout",
     "output_type": "stream",
     "text": [
      "before -1\n",
      "9 9\n",
      "after 9\n",
      "41 41\n",
      "after 41\n",
      "74 74\n",
      "after 74\n"
     ]
    }
   ],
   "source": [
    "largest_so_far=-1\n",
    "print('before',largest_so_far)\n",
    "for the_num in [9,41,12,3,74,15]:\n",
    "    if the_num>largest_so_far:\n",
    "        largest_so_far=the_num\n",
    "        print(largest_so_far,the_num)\n",
    "        print('after',largest_so_far)"
   ]
  },
  {
   "cell_type": "code",
   "execution_count": 17,
   "id": "02cd2cfe",
   "metadata": {},
   "outputs": [
    {
     "name": "stdout",
     "output_type": "stream",
     "text": [
      "before 0\n",
      "1 9\n",
      "after 1\n",
      "2 41\n",
      "after 2\n",
      "3 12\n",
      "after 3\n",
      "4 3\n",
      "after 4\n",
      "5 74\n",
      "after 5\n",
      "6 15\n",
      "after 6\n"
     ]
    }
   ],
   "source": [
    "zork=0\n",
    "print('before',zork)\n",
    "for thing in[9,41,12,3,74,15]:\n",
    "    zork=zork+1\n",
    "    print(zork,thing)\n",
    "    print('after',zork)"
   ]
  },
  {
   "cell_type": "code",
   "execution_count": 19,
   "id": "2550aec7",
   "metadata": {},
   "outputs": [
    {
     "name": "stdout",
     "output_type": "stream",
     "text": [
      "before 0\n",
      "9 9\n",
      "after 9\n",
      "50 41\n",
      "after 50\n",
      "62 12\n",
      "after 62\n",
      "65 3\n",
      "after 65\n",
      "139 74\n",
      "after 139\n",
      "154 15\n",
      "after 154\n"
     ]
    }
   ],
   "source": [
    "zork=0\n",
    "print('before',zork)\n",
    "for thing in[9,41,12,3,74,15]:\n",
    "    zork=zork+thing\n",
    "    print(zork,thing)\n",
    "    print('after',zork)"
   ]
  },
  {
   "cell_type": "code",
   "execution_count": 20,
   "id": "f190d2b8",
   "metadata": {},
   "outputs": [
    {
     "name": "stdout",
     "output_type": "stream",
     "text": [
      "before 0 0\n",
      "9 1 9\n",
      "after 1 9 9.0\n",
      "50 2 41\n",
      "after 2 50 25.0\n",
      "62 3 12\n",
      "after 3 62 20.666666666666668\n",
      "65 4 3\n",
      "after 4 65 16.25\n",
      "139 5 74\n",
      "after 5 139 27.8\n",
      "154 6 15\n",
      "after 6 154 25.666666666666668\n"
     ]
    }
   ],
   "source": [
    "count=0\n",
    "sum=0\n",
    "print('before',count,sum)\n",
    "for thing in[9,41,12,3,74,15]:\n",
    "    count=count+1\n",
    "    sum=sum+thing\n",
    "    print(sum,count,thing)\n",
    "    print('after',count,sum,sum/count)"
   ]
  },
  {
   "cell_type": "code",
   "execution_count": 23,
   "id": "27fa568b",
   "metadata": {},
   "outputs": [
    {
     "name": "stdout",
     "output_type": "stream",
     "text": [
      "before\n",
      "large number 41\n",
      "after\n",
      "large number 74\n",
      "after\n"
     ]
    }
   ],
   "source": [
    "print('before')\n",
    "for value in[9,41,12,3,74,15]:\n",
    "    if value>20:\n",
    "        print ('large number',value)\n",
    "        print('after')"
   ]
  },
  {
   "cell_type": "code",
   "execution_count": 27,
   "id": "478dc291",
   "metadata": {},
   "outputs": [
    {
     "name": "stdout",
     "output_type": "stream",
     "text": [
      "before False\n",
      "True 3\n",
      "after True\n"
     ]
    }
   ],
   "source": [
    "found=False\n",
    "print('before',found)\n",
    "for value in[9,41,12,3,74,15]:\n",
    "    if value==3:\n",
    "        found=True\n",
    "        print (found,value)\n",
    "        print('after',found)"
   ]
  },
  {
   "cell_type": "code",
   "execution_count": 28,
   "id": "11222863",
   "metadata": {},
   "outputs": [
    {
     "name": "stdout",
     "output_type": "stream",
     "text": [
      "before -1\n"
     ]
    }
   ],
   "source": [
    "largest_so_far=-1\n",
    "print('before',largest_so_far)\n",
    "for the_num in [9,41,12,3,74,15]:\n",
    "    if the_num<largest_so_far:\n",
    "        largest_so_far=the_num\n",
    "        print(largest_so_far,the_num)\n",
    "        print('after',largest_so_far)"
   ]
  },
  {
   "cell_type": "code",
   "execution_count": 44,
   "id": "780a8d36",
   "metadata": {},
   "outputs": [
    {
     "ename": "SyntaxError",
     "evalue": "invalid syntax (4292165115.py, line 6)",
     "output_type": "error",
     "traceback": [
      "\u001b[1;36m  Cell \u001b[1;32mIn[44], line 6\u001b[1;36m\u001b[0m\n\u001b[1;33m    elif value<smallest:\u001b[0m\n\u001b[1;37m    ^\u001b[0m\n\u001b[1;31mSyntaxError\u001b[0m\u001b[1;31m:\u001b[0m invalid syntax\n"
     ]
    }
   ],
   "source": [
    "smallest=None\n",
    "print('before')\n",
    "for value in [9,41,12,374,15]:\n",
    "    if smallest is None:\n",
    "        smallest=value\n",
    "        elif value<smallest:\n",
    "    smallest=value\n",
    "            print(smallest,value)\n",
    "            print('after',smallest)\n"
   ]
  }
 ],
 "metadata": {
  "kernelspec": {
   "display_name": "Python 3 (ipykernel)",
   "language": "python",
   "name": "python3"
  },
  "language_info": {
   "codemirror_mode": {
    "name": "ipython",
    "version": 3
   },
   "file_extension": ".py",
   "mimetype": "text/x-python",
   "name": "python",
   "nbconvert_exporter": "python",
   "pygments_lexer": "ipython3",
   "version": "3.11.4"
  }
 },
 "nbformat": 4,
 "nbformat_minor": 5
}
