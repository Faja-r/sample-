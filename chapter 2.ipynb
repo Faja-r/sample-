{
 "cells": [
  {
   "cell_type": "markdown",
   "id": "13508184",
   "metadata": {},
   "source": [
    "# chapter 2\n",
    "\n",
    "# variables Expression and statments"
   ]
  },
  {
   "cell_type": "code",
   "execution_count": 1,
   "id": "7ef0266d",
   "metadata": {},
   "outputs": [
    {
     "name": "stdout",
     "output_type": "stream",
     "text": [
      "123\n"
     ]
    }
   ],
   "source": [
    "print(\"123\")"
   ]
  },
  {
   "cell_type": "code",
   "execution_count": 2,
   "id": "8ef852a7",
   "metadata": {},
   "outputs": [
    {
     "name": "stdout",
     "output_type": "stream",
     "text": [
      "98.6\n"
     ]
    }
   ],
   "source": [
    "print(\"98.6\")"
   ]
  },
  {
   "cell_type": "code",
   "execution_count": 3,
   "id": "06a8ffa3",
   "metadata": {},
   "outputs": [
    {
     "name": "stdout",
     "output_type": "stream",
     "text": [
      "hello world\n"
     ]
    }
   ],
   "source": [
    "print(\"hello world\")"
   ]
  },
  {
   "cell_type": "code",
   "execution_count": 4,
   "id": "f308bee6",
   "metadata": {},
   "outputs": [
    {
     "name": "stdout",
     "output_type": "stream",
     "text": [
      "4\n"
     ]
    }
   ],
   "source": [
    "xx=2\n",
    "xx=xx+2\n",
    "print (xx)"
   ]
  },
  {
   "cell_type": "code",
   "execution_count": 5,
   "id": "08ea71ef",
   "metadata": {},
   "outputs": [
    {
     "name": "stdout",
     "output_type": "stream",
     "text": [
      "5280\n"
     ]
    }
   ],
   "source": [
    "yy=440*12\n",
    "print(yy)"
   ]
  },
  {
   "cell_type": "code",
   "execution_count": 6,
   "id": "5fe97ea1",
   "metadata": {},
   "outputs": [
    {
     "name": "stdout",
     "output_type": "stream",
     "text": [
      "5.28\n"
     ]
    }
   ],
   "source": [
    "zz=yy/1000\n",
    "print(zz)"
   ]
  },
  {
   "cell_type": "code",
   "execution_count": 7,
   "id": "e9382d93",
   "metadata": {},
   "outputs": [
    {
     "name": "stdout",
     "output_type": "stream",
     "text": [
      "3\n"
     ]
    }
   ],
   "source": [
    "jj=23\n",
    "kk=jj%5\n",
    "print(kk)"
   ]
  },
  {
   "cell_type": "code",
   "execution_count": 8,
   "id": "e1e54fab",
   "metadata": {},
   "outputs": [
    {
     "name": "stdout",
     "output_type": "stream",
     "text": [
      "64\n"
     ]
    }
   ],
   "source": [
    "print(4**3)"
   ]
  },
  {
   "cell_type": "code",
   "execution_count": 9,
   "id": "905e589d",
   "metadata": {},
   "outputs": [
    {
     "name": "stdout",
     "output_type": "stream",
     "text": [
      "11.0\n"
     ]
    }
   ],
   "source": [
    "x=1+2**3/4*5\n",
    "print(x)"
   ]
  },
  {
   "cell_type": "code",
   "execution_count": 10,
   "id": "db0a16c3",
   "metadata": {},
   "outputs": [
    {
     "name": "stdout",
     "output_type": "stream",
     "text": [
      "5\n"
     ]
    }
   ],
   "source": [
    "ddd=1+4\n",
    "print(ddd)\n",
    "\n"
   ]
  },
  {
   "cell_type": "code",
   "execution_count": 11,
   "id": "4ccb2c82",
   "metadata": {},
   "outputs": [
    {
     "name": "stdout",
     "output_type": "stream",
     "text": [
      "hello  there\n"
     ]
    }
   ],
   "source": [
    "eee='hello'+'  there'\n",
    "print(eee)"
   ]
  },
  {
   "cell_type": "code",
   "execution_count": 12,
   "id": "574ac80d",
   "metadata": {},
   "outputs": [
    {
     "name": "stdout",
     "output_type": "stream",
     "text": [
      "hello there\n",
      "<class 'str'>\n"
     ]
    }
   ],
   "source": [
    "x='hello'+' there'\n",
    "print(x)\n",
    "print(type(x))"
   ]
  },
  {
   "cell_type": "code",
   "execution_count": 13,
   "id": "cba5d438",
   "metadata": {},
   "outputs": [
    {
     "data": {
      "text/plain": [
       "int"
      ]
     },
     "execution_count": 13,
     "metadata": {},
     "output_type": "execute_result"
    }
   ],
   "source": [
    "xx=1\n",
    "type(xx)"
   ]
  },
  {
   "cell_type": "code",
   "execution_count": 14,
   "id": "dd93ca06",
   "metadata": {},
   "outputs": [
    {
     "name": "stdout",
     "output_type": "stream",
     "text": [
      "199.0\n"
     ]
    }
   ],
   "source": [
    "\n",
    "print(float(99)+100)"
   ]
  },
  {
   "cell_type": "code",
   "execution_count": 15,
   "id": "f9d0b306",
   "metadata": {},
   "outputs": [
    {
     "name": "stdout",
     "output_type": "stream",
     "text": [
      "5.0\n",
      "4.5\n",
      "0.99\n",
      "0.5\n",
      "0.99\n"
     ]
    }
   ],
   "source": [
    "print(10/2)\n",
    "print(9/2)\n",
    "print(99/100)\n",
    "print(10.0/20.0)\n",
    "print(99.0/100.0)"
   ]
  },
  {
   "cell_type": "code",
   "execution_count": 16,
   "id": "77a40094",
   "metadata": {},
   "outputs": [
    {
     "name": "stdout",
     "output_type": "stream",
     "text": [
      "42.0\n"
     ]
    },
    {
     "data": {
      "text/plain": [
       "float"
      ]
     },
     "execution_count": 16,
     "metadata": {},
     "output_type": "execute_result"
    }
   ],
   "source": [
    "i=42\n",
    "type(i)\n",
    "f=float(i)\n",
    "print(f)\n",
    "type(f)"
   ]
  },
  {
   "cell_type": "code",
   "execution_count": 17,
   "id": "2c4091b0",
   "metadata": {},
   "outputs": [
    {
     "name": "stdout",
     "output_type": "stream",
     "text": [
      "who are you?chuck\n",
      "welcome , nam\n"
     ]
    }
   ],
   "source": [
    "nam = input('who are you?')\n",
    "print ('welcome , nam')\n"
   ]
  },
  {
   "cell_type": "markdown",
   "id": "ea21756f",
   "metadata": {},
   "source": [
    "#  write a program to prompt the user per hours and rate per hour to compute the gross pay"
   ]
  },
  {
   "cell_type": "code",
   "execution_count": 18,
   "id": "837a0a8d",
   "metadata": {},
   "outputs": [
    {
     "name": "stdout",
     "output_type": "stream",
     "text": [
      "enter hours:35\n",
      "enter hourly rate:2.75\n",
      "96.25\n"
     ]
    }
   ],
   "source": [
    "hours=input(\"enter hours:\")\n",
    "rate=input(\"enter hourly rate:\")\n",
    "h=float(hours)\n",
    "r=float(rate)\n",
    "if h<=35:print(h*r)\n",
    "else:\n",
    "    print((h-35)*(2.75*r)+(35*r));"
   ]
  },
  {
   "cell_type": "code",
   "execution_count": null,
   "id": "f7ada23c",
   "metadata": {},
   "outputs": [],
   "source": []
  }
 ],
 "metadata": {
  "kernelspec": {
   "display_name": "Python 3 (ipykernel)",
   "language": "python",
   "name": "python3"
  },
  "language_info": {
   "codemirror_mode": {
    "name": "ipython",
    "version": 3
   },
   "file_extension": ".py",
   "mimetype": "text/x-python",
   "name": "python",
   "nbconvert_exporter": "python",
   "pygments_lexer": "ipython3",
   "version": "3.11.4"
  }
 },
 "nbformat": 4,
 "nbformat_minor": 5
}
